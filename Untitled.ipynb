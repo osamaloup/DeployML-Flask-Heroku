{
 "cells": [
  {
   "cell_type": "code",
   "execution_count": 15,
   "metadata": {},
   "outputs": [
    {
     "name": "stdout",
     "output_type": "stream",
     "text": [
      "[STATUS]  <Response [503]>\n"
     ]
    }
   ],
   "source": [
    "import requests\n",
    "import json\n",
    "\n",
    "url = 'http://127.0.0.1:5000/'\n",
    "heroku_url = 'https://flask-model-ml.herokuapp.com'\n",
    "\n",
    "data = {'Pclass': 3\n",
    "       , 'Age': 2\n",
    "       , 'SibSp': 1\n",
    "       , 'Fare': 50}\n",
    "data = json.dumps(data)\n",
    "send_request = requests.post(heroku_url, data)\n",
    "print(\"[STATUS] \", send_request)\n",
    "#print(\"[STATUS] Prediction: {}\".format(send_request.json()))\n"
   ]
  },
  {
   "cell_type": "code",
   "execution_count": null,
   "metadata": {},
   "outputs": [],
   "source": []
  }
 ],
 "metadata": {
  "kernelspec": {
   "display_name": "Python 3",
   "language": "python",
   "name": "python3"
  },
  "language_info": {
   "codemirror_mode": {
    "name": "ipython",
    "version": 3
   },
   "file_extension": ".py",
   "mimetype": "text/x-python",
   "name": "python",
   "nbconvert_exporter": "python",
   "pygments_lexer": "ipython3",
   "version": "3.7.3"
  }
 },
 "nbformat": 4,
 "nbformat_minor": 2
}
